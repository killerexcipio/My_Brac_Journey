{
  "nbformat": 4,
  "nbformat_minor": 0,
  "metadata": {
    "colab": {
      "provenance": []
    },
    "kernelspec": {
      "name": "python3",
      "display_name": "Python 3"
    },
    "language_info": {
      "name": "python"
    }
  },
  "cells": [
    {
      "cell_type": "code",
      "source": [
        "#Task 1 - Mortal Kombat\n",
        "import random\n",
        "\n",
        "class Node:\n",
        "  def __init__(self, value = None):\n",
        "    self.value = value\n",
        "    self.left = None\n",
        "    self.right = None\n",
        "\n",
        "  def is_leaf(self):\n",
        "    if self.left == None and self.right == None:\n",
        "      return True\n",
        "    else:\n",
        "      return False\n",
        "\n",
        "  def children(self):\n",
        "    if self.is_leaf():\n",
        "      return []\n",
        "    else:\n",
        "      children = [self.left, self.right]\n",
        "      return children\n",
        "\n",
        "def create_tree(depth, array):\n",
        "    length = 0\n",
        "    for i in range(0, depth):\n",
        "        length += 2**i\n",
        "    narr = [None]*length\n",
        "    narr.extend(array)\n",
        "\n",
        "    for i in range(len(narr)):\n",
        "      narr[i] = Node(narr[i])\n",
        "\n",
        "    for i in range(len(narr)):\n",
        "      if i*2+1 < len(narr):\n",
        "        narr[i].left = narr[i*2+1]\n",
        "      if i*2+2 < len(narr):\n",
        "        narr[i].right = narr[i*2+2]\n",
        "    return narr[0]\n",
        "\n",
        "def alpha_beta_pruning(node, depth, max_player, alpha, beta):\n",
        "    if depth == 0 or node.is_leaf():\n",
        "        return node.value\n",
        "\n",
        "    if max_player:\n",
        "        max_value = float('-inf')\n",
        "        for child in node.children():\n",
        "            value = alpha_beta_pruning(child, depth - 1, False, alpha, beta)\n",
        "            max_value = max(max_value, value)\n",
        "            alpha = max(alpha, value)\n",
        "            if beta <= alpha:\n",
        "                break\n",
        "        return max_value\n",
        "\n",
        "    else:\n",
        "        min_value = float('inf')\n",
        "        for child in node.children():\n",
        "            value = alpha_beta_pruning(child, depth - 1, True, alpha, beta)\n",
        "            min_value = min(min_value, value)\n",
        "            beta = min(beta, value)\n",
        "            if beta <= alpha:\n",
        "                break\n",
        "        return min_value\n",
        "\n",
        "round = 3\n",
        "round_winner=[]\n",
        "for i in range(round):\n",
        "    depth = random.choice(range(1, 6))\n",
        "    array = [random.choice([-1, 1]) for _ in range(2**depth)]\n",
        "    tree = create_tree(depth, array)\n",
        "    win=alpha_beta_pruning(tree,depth,False,float('-inf'),float('inf'))\n",
        "    if win==-1:\n",
        "      round_winner.append('Scorpion')\n",
        "    else:\n",
        "      round_winner.append('Sub-Zero')\n",
        "\n",
        "player = input(\"Enter 0 for Scorpion or 1 for Sub-Zero: \")\n",
        "if round_winner.count('Scorpion') > 1:\n",
        "  print('Game Winner: Scorpion')\n",
        "else:\n",
        "  print('Game Winner: Sub-Zero wins')\n",
        "print(f'Total rounds Played: {round}')\n",
        "for i in range(len(round_winner)):\n",
        "  print(f'Winner of round {i+1}:{round_winner[i]}')\n",
        "\n"
      ],
      "metadata": {
        "colab": {
          "base_uri": "https://localhost:8080/"
        },
        "id": "5if1mgRaRzwm",
        "outputId": "47e38ddc-767d-4f44-82ad-691e5e69fc94"
      },
      "execution_count": null,
      "outputs": [
        {
          "output_type": "stream",
          "name": "stdout",
          "text": [
            "Game Winner: Scorpion\n",
            "Total rounds Played: 3\n",
            "Winner of round 1:Sub-Zero\n",
            "Winner of round 2:Scorpion\n",
            "Winner of round 3:Scorpion\n"
          ]
        }
      ]
    },
    {
      "cell_type": "code",
      "source": [
        "#Task 2 - Pacman\n",
        "\n",
        "def pacman(dark_magic):\n",
        "    array = [ 3, 6, 2, 3, 7, 1, 2, 0]\n",
        "    depth = 3\n",
        "    tree = create_tree(depth, array)\n",
        "\n",
        "    def dark_ab_pruning(node, depth, alpha, beta):\n",
        "      if depth == 0 or node.is_leaf():\n",
        "          return node.value\n",
        "\n",
        "      max_value = float('-inf')\n",
        "      for child in node.children():\n",
        "          value = dark_ab_pruning(child, depth - 1, alpha, beta)\n",
        "          max_value = max(max_value, value)\n",
        "          alpha = max(alpha, value)\n",
        "          if beta <= alpha:\n",
        "              break\n",
        "      return max_value\n",
        "\n",
        "    if dark_magic:\n",
        "      score = dark_ab_pruning(tree, depth, float('-inf'), float('inf'))\n",
        "    else:\n",
        "      score = alpha_beta_pruning(tree, depth, True, float('-inf'), float('inf'))\n",
        "\n",
        "    return score\n",
        "\n",
        "score = pacman(False)\n",
        "print(f'Your score is {score} would you like to use Drak Magic?')\n",
        "action = input('Yes or no? ').lower()\n",
        "\n",
        "if action == 'yes':\n",
        "  value = int(input('Enter Value: '))\n",
        "  new_score = pacman(True)\n",
        "  new_score = new_score - value\n",
        "\n",
        "  if new_score > score:\n",
        "    print(f'The new minimax value is {new_score}. Pacman goes right and uses dark magic')\n",
        "  else:\n",
        "    print(f'The minimax value is {score}. Pacman does not use dark magic')\n",
        "\n",
        "else:\n",
        "  print(f'The minimax value is {score}. Pacman does not use dark magic')"
      ],
      "metadata": {
        "colab": {
          "base_uri": "https://localhost:8080/"
        },
        "id": "0ybN8rTJkBlH",
        "outputId": "2021f79a-c1dd-42a3-abce-2e4d074d9842"
      },
      "execution_count": null,
      "outputs": [
        {
          "output_type": "stream",
          "name": "stdout",
          "text": [
            "Your score is 3 would you like to use Drak Magic?\n",
            "Yes or no? yes\n",
            "Enter Value: 2\n",
            "The new minimax value is 5. Pacman goes right and uses dark magic\n"
          ]
        }
      ]
    },
    {
      "cell_type": "code",
      "source": [],
      "metadata": {
        "id": "X8RylJOWsE8A"
      },
      "execution_count": null,
      "outputs": []
    }
  ]
}