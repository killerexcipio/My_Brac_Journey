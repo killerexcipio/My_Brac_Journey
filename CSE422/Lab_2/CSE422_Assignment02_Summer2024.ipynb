{
  "nbformat": 4,
  "nbformat_minor": 0,
  "metadata": {
    "colab": {
      "provenance": []
    },
    "kernelspec": {
      "name": "python3",
      "display_name": "Python 3"
    },
    "language_info": {
      "name": "python"
    }
  },
  "cells": [
    {
      "cell_type": "code",
      "source": [
        "import random"
      ],
      "metadata": {
        "id": "ZGqDewIQAIi3"
      },
      "execution_count": null,
      "outputs": []
    },
    {
      "cell_type": "code",
      "execution_count": null,
      "metadata": {
        "id": "nhtIU0Qg6dFF"
      },
      "outputs": [],
      "source": [
        "def generate_chromosome(n, t, p):\n",
        "    l = n*t\n",
        "    population = []\n",
        "\n",
        "    for i in range(p):\n",
        "      chromosome = ''\n",
        "      for i in range(l):\n",
        "          chromosome += str(random.randint(0,1))\n",
        "      population.append(chromosome)\n",
        "    print(population)\n",
        "    return population"
      ]
    },
    {
      "cell_type": "code",
      "source": [
        "def idx_split(t, a):\n",
        "    split = int(len(a)/t)\n",
        "    return [a[i:i+split] for i in range(0, len(a), split)]"
      ],
      "metadata": {
        "id": "VG49lW1gA3j2"
      },
      "execution_count": null,
      "outputs": []
    },
    {
      "cell_type": "code",
      "source": [
        "def fitness(n, t, a):\n",
        "    l = idx_split(t, a)\n",
        "\n",
        "    overlap = 0\n",
        "    consistency = 0\n",
        "\n",
        "    for i in l:\n",
        "      count = 0\n",
        "      for j in i:\n",
        "        if j == '1':\n",
        "          count += 1\n",
        "      if count>1:\n",
        "        overlap += count-1\n",
        "\n",
        "    for i in range(t):\n",
        "      count = 0\n",
        "      for j in l:\n",
        "        if j[i] == '1':\n",
        "          count += 1\n",
        "      consistency += abs(count-1)\n",
        "\n",
        "    return -(overlap+consistency)\n",
        "\n"
      ],
      "metadata": {
        "id": "hejVcOwtBwRn"
      },
      "execution_count": null,
      "outputs": []
    },
    {
      "cell_type": "code",
      "source": [
        "def mutation(child):\n",
        "  idx = random.randint(0, len(child)-1)\n",
        "  if child[idx] == '0':\n",
        "    n_child = child[:idx] + '1' + child[idx+1:]\n",
        "  else:\n",
        "    n_child = child[:idx] + '0' + child[idx+1:]\n",
        "  return n_child\n"
      ],
      "metadata": {
        "id": "weaWIi3aVlYO"
      },
      "execution_count": null,
      "outputs": []
    },
    {
      "cell_type": "code",
      "source": [
        "def crossover(parent):\n",
        "  length = len(parent[0])\n",
        "  idx = random.randint(0, length-1)\n",
        "  while a == b:\n",
        "    b = random.randint(0, length-1)\n",
        "  parent_1, parent_2 = parent\n",
        "  child_1 = parent_1[:idx] + parent_2[idx:]"
      ],
      "metadata": {
        "id": "doM1-rJZYyWo"
      },
      "execution_count": null,
      "outputs": []
    },
    {
      "cell_type": "code",
      "source": [
        "#Test\n",
        "n, t, p = 3, 3, 10\n",
        "a = generate_chromosome(n,t,p)\n",
        "\n",
        "def best_chromosome(n, t, p, a):\n",
        "  max = -999999\n",
        "  for i in a:\n",
        "    if fitness(n, t, i) > max:\n",
        "      max = fitness(n, t, i)\n",
        "      best = i\n",
        "    if max == 0:\n",
        "      break\n",
        "  # print('Test 1')\n",
        "  # print(a)\n",
        "  # print(best)\n",
        "  # print(max)\n",
        "  return best\n"
      ],
      "metadata": {
        "colab": {
          "base_uri": "https://localhost:8080/"
        },
        "id": "JhjjKaa9BYhO",
        "outputId": "84430ced-ab9b-4869-f90f-6c702dc3f2db"
      },
      "execution_count": null,
      "outputs": [
        {
          "output_type": "stream",
          "name": "stdout",
          "text": [
            "['011000110', '110000010', '101000101', '011001111', '111101101', '011111010', '010101010', '011110111', '000011001', '110000101']\n"
          ]
        }
      ]
    },
    {
      "cell_type": "markdown",
      "source": [
        "**Task 1 output function**"
      ],
      "metadata": {
        "id": "F_-55CWDfpdO"
      }
    },
    {
      "cell_type": "code",
      "source": [
        "def experiment(n, t, p, a):\n",
        "  parent = best_chromosome(n, t, p, a)\n",
        "  p_fit = fitness(n, t, parent)\n",
        "  child = mutation(parent)\n",
        "  c_fit = fitness(n, t, child)\n",
        "  if c_fit > p_fit:\n",
        "    print(child)\n",
        "    print(c_fit)\n",
        "    return child, c_fit\n",
        "  else:\n",
        "    print(parent)\n",
        "    print(p_fit)\n",
        "    return parent, p_fit\n",
        "\n",
        "x = experiment(n, t, p, a)"
      ],
      "metadata": {
        "colab": {
          "base_uri": "https://localhost:8080/"
        },
        "id": "tbFm1iU7ZY3L",
        "outputId": "457e1641-7bf1-4f4f-df6b-17d3e2a88280"
      },
      "execution_count": null,
      "outputs": [
        {
          "output_type": "stream",
          "name": "stdout",
          "text": [
            "010101010\n",
            "-2\n"
          ]
        }
      ]
    },
    {
      "cell_type": "markdown",
      "source": [
        "**TASK 2**"
      ],
      "metadata": {
        "id": "ESBcIVzgfiaA"
      }
    },
    {
      "cell_type": "code",
      "source": [
        "def random_parent_chooser(a):\n",
        "  length = len(a[0])\n",
        "  one = random.randint(0, len(a)-1)\n",
        "  two = random.randint(0, len(a)-1)\n",
        "  parent_1 = a[0]\n",
        "  if one == two:\n",
        "    two = random.randint(0, len(a)-1)\n",
        "  parent_2 = a[two]\n",
        "  return (parent_1, parent_2)"
      ],
      "metadata": {
        "id": "ANiOplMHUi-t"
      },
      "execution_count": null,
      "outputs": []
    },
    {
      "cell_type": "code",
      "source": [
        "parent = random_parent_chooser(a)\n",
        "def two_point_crossover(parent):\n",
        "  length = len(parent[0])\n",
        "  a = random.randint(0, length-1)\n",
        "  b = random.randint(0, length-1)\n",
        "  while a == b:\n",
        "    b = random.randint(0, length-1)\n",
        "  one, two = min(a,b), max(a,b)\n",
        "  parent_1, parent_2 = parent\n",
        "  child_1 = parent_1[:one] + parent_2[one:two] + parent_1[two:]\n",
        "  child_2 = parent_2[:one] + parent_1[one:two] + parent_2[two:]\n",
        "\n",
        "  return (child_1, child_2)\n",
        "\n",
        "two_point_crossover(parent)"
      ],
      "metadata": {
        "colab": {
          "base_uri": "https://localhost:8080/"
        },
        "id": "5AL1IMKqfDuG",
        "outputId": "7058eddb-bd00-4c66-9d33-f7eb113434e4"
      },
      "execution_count": null,
      "outputs": [
        {
          "output_type": "execute_result",
          "data": {
            "text/plain": [
              "('011000010', '110000110')"
            ]
          },
          "metadata": {},
          "execution_count": 20
        }
      ]
    }
  ]
}