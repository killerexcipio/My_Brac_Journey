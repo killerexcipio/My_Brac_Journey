{
  "nbformat": 4,
  "nbformat_minor": 0,
  "metadata": {
    "colab": {
      "provenance": []
    },
    "kernelspec": {
      "name": "python3",
      "display_name": "Python 3"
    },
    "language_info": {
      "name": "python"
    }
  },
  "cells": [
    {
      "cell_type": "code",
      "source": [
        "input = open('Input file.txt','r')\n",
        "info_lines = input.readlines()\n",
        "\n",
        "city_encode = {'Arad':'A', 'Bucharest':'Z', 'Craiova':'S', 'Eforie':'T', 'Fagaras':'O', 'Dobreta':'V',\n",
        "               'Hirsova':'N', 'lasi':'Q','Neamt':   'F','Oradea':   'B','Pitesti':  'P',\n",
        "               'RimnicuVilcea': 'R','Timisoara':    'C','Urziceni': 'D','Vaslui':   'H','Zerind':   'E',\n",
        "               'Lugoj': 'G','Mehadia':  'L', 'Sibiu': 'U','Giurgiu': 'J'}\n",
        "city_decode = {city_encode[i]:i for i in city_encode}\n",
        "\n",
        "heuristic = {}\n",
        "city_graph = {}\n",
        "\n",
        "for i in info_lines:\n",
        "  i = i.split()\n",
        "  heuristic[city_encode[i[0]]] = int(i[1])\n",
        "  for j, k in zip(i[2::2], i[3::2]):\n",
        "    if city_encode[i[0]] not in city_graph:\n",
        "      city_graph[city_encode[i[0]]] = {}\n",
        "    neighbor = {city_encode[j] : int(k)}\n",
        "    city_graph[city_encode[i[0]]].update(neighbor)"
      ],
      "metadata": {
        "id": "lvP4lMjnsRk0"
      },
      "execution_count": null,
      "outputs": []
    },
    {
      "cell_type": "code",
      "execution_count": null,
      "metadata": {
        "id": "87wM1GXkl8jF",
        "colab": {
          "base_uri": "https://localhost:8080/"
        },
        "outputId": "f401cfdc-b1f5-42b7-a043-35578da30ffa"
      },
      "outputs": [
        {
          "output_type": "stream",
          "name": "stdout",
          "text": [
            "Path: Arad -> Sibiu -> RimnicuVilcea -> Pitesti -> Bucharest\n",
            "Cost: 418\n"
          ]
        }
      ],
      "source": [
        "def a_star(graph, heuristic, start, end):\n",
        "    fringe = [(0, start)] #The fringe\n",
        "    visited = set() #The visited tracker\n",
        "    total_cost = {node: float('inf') for node in graph} #Keeps track of the total cost of nodes from the start\n",
        "    total_cost[start] = 0\n",
        "    came_from = {} #Keeps track of the parent nodes\n",
        "\n",
        "    while fringe: #Dips into the fringe\n",
        "        current_cost, current = min(fringe) #Takes the the one with the minimum cost\n",
        "        fringe.remove((current_cost, current)) #Pops the tuple\n",
        "        if current == end:\n",
        "            return (pathway(start, end, came_from), total_cost[end])\n",
        "\n",
        "        visited.add(current)\n",
        "\n",
        "        for neighbor, cost in graph[current].items(): #Iterates throught the children/neighbours\n",
        "            if neighbor in visited: #Skips the already visited stuff\n",
        "                continue\n",
        "\n",
        "            new_total = total_cost[current] + cost #Finds the total cost from the start relative to the current node\n",
        "            if new_total < total_cost[neighbor]:\n",
        "                total_cost[neighbor] = new_total #Uses the lower score and updates the parent that gets you tothe lower score\n",
        "                f_score = new_total + heuristic[neighbor]\n",
        "                if (f_score, neighbor) not in fringe:\n",
        "                    fringe.append((f_score, neighbor))\n",
        "                came_from[neighbor] = current\n",
        "\n",
        "    return None  # No path found\n",
        "\n",
        "def pathway(start, end, came_from):\n",
        "    route = [city_decode[end]]\n",
        "    while end != start:\n",
        "        end = came_from[end]\n",
        "        route += [city_decode[end]]\n",
        "    r = ''\n",
        "    for i in range(len(route)-1, -1, -1):\n",
        "        r += route[i] + ' -> '\n",
        "    return r[:-4]\n",
        "\n",
        "start_node = 'A'\n",
        "end_node = 'Z'\n",
        "\n",
        "path = a_star(city_graph, heuristic, start_node, end_node)\n",
        "print(f'Path: {path[0]}')\n",
        "print(f'Cost: {path[1]}')"
      ]
    }
  ]
}